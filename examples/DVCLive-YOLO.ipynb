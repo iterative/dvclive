{
 "cells": [
  {
   "cell_type": "markdown",
   "metadata": {},
   "source": [
    "<a href=\"https://colab.research.google.com/github/iterative/dvclive/blob/main/examples/DVCLive-YOLO.ipynb\" target=\"_parent\"><img src=\"https://colab.research.google.com/assets/colab-badge.svg\" alt=\"Open In Colab\"/></a>"
   ]
  },
  {
   "cell_type": "markdown",
   "metadata": {},
   "source": [
    "# DVCLive and Ultralytics YOLOv8"
   ]
  },
  {
   "cell_type": "markdown",
   "metadata": {},
   "source": [
    "## Setup"
   ]
  },
  {
   "cell_type": "code",
   "execution_count": null,
   "metadata": {},
   "outputs": [],
   "source": [
    "%pip install dvclive ultralytics\n",
    "import ultralytics\n",
    "ultralytics.checks()"
   ]
  },
  {
   "cell_type": "code",
   "execution_count": null,
   "metadata": {},
   "outputs": [],
   "source": [
    "!git init -q\n",
    "!git config --local user.email \"you@example.com\"\n",
    "!git config --local user.name \"Your Name\"\n",
    "!dvc init -q\n",
    "!git commit -m \"DVC init\""
   ]
  },
  {
   "cell_type": "markdown",
   "metadata": {},
   "source": [
    "# Tracking experiments with DVCLive"
   ]
  },
  {
   "cell_type": "markdown",
   "metadata": {},
   "source": [
    "If `dvclive` is installed, Ultralytics YOLO v8 will automatically use DVCLive for tracking experiments."
   ]
  },
  {
   "cell_type": "code",
   "execution_count": null,
   "metadata": {},
   "outputs": [],
   "source": [
    "!yolo train model=yolov8n.pt data=coco8.yaml epochs=5 imgsz=512\n",
    "!yolo train model=yolov8n.pt data=coco8.yaml epochs=5 imgsz=640\n",
    "!yolo train model=yolov8n.pt data=coco8.yaml epochs=10 imgsz=640\n",
    "!yolo train model=yolov8s.pt data=coco8.yaml epochs=10 imgsz=640\n",
    "!yolo train model=yolov8m.pt data=coco8.yaml epochs=10 imgsz=640"
   ]
  },
  {
   "cell_type": "markdown",
   "metadata": {},
   "source": [
    "# Comparing results"
   ]
  },
  {
   "cell_type": "code",
   "execution_count": null,
   "metadata": {},
   "outputs": [],
   "source": [
    "import dvc.api\n",
    "import pandas as pd\n",
    "\n",
    "columns = [\"Experiment\", \"epochs\", \"imgsz\", \"model\", \"metrics.mAP50-95(B)\"]\n",
    "\n",
    "df = pd.DataFrame(dvc.api.exp_show(), columns=columns)\n",
    "\n",
    "df.dropna(inplace=True)\n",
    "df.reset_index(drop=True, inplace=True)\n",
    "df"
   ]
  },
  {
   "cell_type": "code",
   "execution_count": null,
   "metadata": {},
   "outputs": [],
   "source": [
    "from plotly.express import parallel_coordinates\n",
    "fig = parallel_coordinates(df, columns, color=\"metrics.mAP50-95(B)\")\n",
    "fig.show()"
   ]
  },
  {
   "cell_type": "code",
   "execution_count": null,
   "metadata": {},
   "outputs": [],
   "source": [
    "!dvc plots diff $(dvc exp list --names-only)  "
   ]
  },
  {
   "cell_type": "code",
   "execution_count": null,
   "metadata": {},
   "outputs": [],
   "source": [
    "from IPython.display import HTML\n",
    "HTML(filename='./dvc_plots/index.html')"
   ]
  }
 ],
 "metadata": {
  "language_info": {
   "name": "python"
  },
  "orig_nbformat": 4
 },
 "nbformat": 4,
 "nbformat_minor": 2
}
