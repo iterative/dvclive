{
 "cells": [
  {
   "attachments": {},
   "cell_type": "markdown",
   "metadata": {},
   "source": [
    "<a href=\"https://colab.research.google.com/github/iterative/dvclive/blob/main/examples/DVCLive-Quickstart.ipynb\" target=\"_parent\"><img src=\"https://colab.research.google.com/assets/colab-badge.svg\" alt=\"Open In Colab\"/></a>"
   ]
  },
  {
   "cell_type": "markdown",
   "metadata": {},
   "source": [
    "# DVCLive Quickstart"
   ]
  },
  {
   "cell_type": "markdown",
   "metadata": {},
   "source": [
    "## Install dvclive"
   ]
  },
  {
   "cell_type": "code",
   "execution_count": null,
   "metadata": {},
   "outputs": [],
   "source": [
    "!pip install dvclive"
   ]
  },
  {
   "cell_type": "markdown",
   "metadata": {},
   "source": [
    "## Initialize DVC Repository"
   ]
  },
  {
   "cell_type": "code",
   "execution_count": null,
   "metadata": {},
   "outputs": [],
   "source": [
    "!git init -q\n",
    "!git config --local user.email \"you@example.com\"\n",
    "!git config --local user.name \"Your Name\"\n",
    "!dvc init -q\n",
    "!git commit -m \"DVC init\""
   ]
  },
  {
   "attachments": {},
   "cell_type": "markdown",
   "metadata": {},
   "source": [
    "## Setup code"
   ]
  },
  {
   "cell_type": "code",
   "execution_count": null,
   "metadata": {},
   "outputs": [],
   "source": [
    "#@title Training helpers. { display-mode: \"form\" }\n",
    "\n",
    "import numpy as np\n",
    "import torch\n",
    "import torch.nn.functional as F\n",
    "import torchvision\n",
    "\n",
    "from dvclive import Live\n",
    "\n",
    "device = \"cuda:0\" if torch.cuda.is_available() else \"cpu\"\n",
    "\n",
    "\n",
    "def transform(dataset):\n",
    "    \"\"\"Get inputs and targets from dataset.\"\"\"\n",
    "    x = dataset.data.reshape(len(dataset.data), 1, 28, 28)/255\n",
    "    y = dataset.targets\n",
    "    return x.to(device), y.to(device)\n",
    "\n",
    "\n",
    "def train_one_epoch(model, criterion, x, y, lr, weight_decay):\n",
    "    model.train()\n",
    "    optimizer = torch.optim.Adam(\n",
    "        model.parameters(), lr=lr, weight_decay=weight_decay)\n",
    "    y_pred = model(x)\n",
    "    loss = criterion(y_pred, y)\n",
    "    optimizer.zero_grad()\n",
    "    loss.backward()\n",
    "    optimizer.step()\n",
    "\n",
    "\n",
    "def predict(model, x):\n",
    "    \"\"\"Get model prediction scores.\"\"\"\n",
    "    model.eval()\n",
    "    with torch.no_grad():\n",
    "        y_pred = model(x)\n",
    "    return y_pred\n",
    "\n",
    "\n",
    "def get_metrics(y, y_pred, y_pred_label):\n",
    "    \"\"\"Get loss and accuracy metrics.\"\"\"\n",
    "    metrics = {}\n",
    "    criterion = torch.nn.CrossEntropyLoss()\n",
    "    metrics[\"loss\"] = criterion(y_pred, y).item()\n",
    "    metrics[\"acc\"] = (y_pred_label == y).sum().item()/len(y)\n",
    "    return metrics\n",
    "\n",
    "\n",
    "def evaluate(model, x, y):\n",
    "    \"\"\"Evaluate model and save metrics.\"\"\"\n",
    "    scores = predict(model, x)\n",
    "    _, labels = torch.max(scores, 1)\n",
    "    actual = [int(v) for v in y]\n",
    "    predicted = [int(v) for v in labels]\n",
    "\n",
    "    metrics = get_metrics(y, scores, labels)\n",
    "\n",
    "    return metrics, actual, predicted\n",
    "\n",
    "def get_missclassified_image(actual, predicted, dataset):\n",
    "    confusion = {}\n",
    "    for n, (a, p) in enumerate(zip(actual, predicted)):\n",
    "        image = np.array(dataset[n][0]) / 255\n",
    "        confusion[(a, p)] = image\n",
    "\n",
    "    max_i, max_j = 0, 0\n",
    "    for (i, j) in confusion:\n",
    "        if i > max_i:\n",
    "            max_i = i\n",
    "        if j > max_j:\n",
    "            max_j = j\n",
    "\n",
    "    frame_size = 30\n",
    "    image_shape = (28, 28)\n",
    "    incorrect_color = np.array((255, 100, 100), dtype=\"uint8\")\n",
    "    label_color = np.array((100, 100, 240), dtype=\"uint8\")\n",
    "\n",
    "    out_matrix = np.ones(shape=((max_i+2) * frame_size, (max_j+2) * frame_size, 3), dtype=\"uint8\") * 240\n",
    "\n",
    "    for i in range(max_i+1):\n",
    "        if (i, i) in confusion:\n",
    "            image = confusion[(i, i)]\n",
    "            xs = (i + 1) * frame_size + 1\n",
    "            xe = (i + 2) * frame_size - 1\n",
    "            ys = 1\n",
    "            ye = frame_size - 1\n",
    "            for c in range(3):\n",
    "                out_matrix[xs:xe, ys:ye, c] = (1 - image) * label_color[c]\n",
    "                out_matrix[ys:ye, xs:xe, c] = (1 - image) * label_color[c]\n",
    "\n",
    "    for (i, j) in confusion:\n",
    "        image = confusion[(i, j)]\n",
    "        assert image.shape == image_shape\n",
    "        xs = (i + 1) * frame_size + 1\n",
    "        xe = (i + 2) * frame_size - 1\n",
    "        ys = (j + 1) * frame_size + 1\n",
    "        ye = (j + 2) * frame_size - 1\n",
    "        assert (xe-xs, ye-ys) == image_shape\n",
    "        if i != j:\n",
    "            for c in range(3):\n",
    "                out_matrix[xs:xe, ys:ye, c] = (1 - image) * incorrect_color[c]\n",
    "\n",
    "    return out_matrix"
   ]
  },
  {
   "cell_type": "code",
   "execution_count": null,
   "metadata": {},
   "outputs": [],
   "source": [
    "#@title Initialize model and dataset. { display-mode: \"form\" }\n",
    "\n",
    "model = torch.nn.Sequential(\n",
    "    torch.nn.Flatten(),\n",
    "    torch.nn.Linear(28 * 28, 128),\n",
    "    torch.nn.ReLU(),\n",
    "    torch.nn.Dropout(0.1),\n",
    "    torch.nn.Linear(128, 64),\n",
    "    torch.nn.ReLU(),\n",
    "    torch.nn.Dropout(0.1),\n",
    "    torch.nn.Linear(64, 10),\n",
    ").to(device)\n",
    "\n",
    "criterion = torch.nn.CrossEntropyLoss()\n",
    "\n",
    "mnist_train = torchvision.datasets.MNIST(\"data\", download=True)\n",
    "x_train, y_train = transform(mnist_train)\n",
    "mnist_test = torchvision.datasets.MNIST(\"data\", download=True, train=False)\n",
    "x_test, y_test = transform(mnist_test)"
   ]
  },
  {
   "attachments": {},
   "cell_type": "markdown",
   "metadata": {},
   "source": [
    "## Tracking experiments with DVCLive"
   ]
  },
  {
   "cell_type": "code",
   "execution_count": null,
   "metadata": {},
   "outputs": [],
   "source": [
    "# You can modify these parameters to see how they affect the training\n",
    "# And run the cell several times\n",
    "params = {\n",
    "    \"epochs\": 5,\n",
    "    \"lr\": 0.003,\n",
    "    \"weight_decay\": 0\n",
    "}\n",
    "\n",
    "best_test_acc = 0\n",
    "\n",
    "with Live(report=\"notebook\") as live:\n",
    "\n",
    "    live.log_params(params)\n",
    "\n",
    "    for _ in range(params[\"epochs\"]):\n",
    "\n",
    "        train_one_epoch(\n",
    "            model, criterion, x_train, y_train, params[\"lr\"], params[\"weight_decay\"]\n",
    "        )\n",
    "\n",
    "        # Train Evaluation\n",
    "        metrics_train, acual_train, predicted_train = evaluate(\n",
    "            model, x_train, y_train)\n",
    "\n",
    "        for k, v in metrics_train.items():\n",
    "            live.log_metric(f\"train/{k}\", v)\n",
    "\n",
    "        live.log_sklearn_plot(\n",
    "            \"confusion_matrix\", \n",
    "            acual_train, predicted_train, \n",
    "            name=\"train/confusion_matrix\"\n",
    "        )\n",
    "\n",
    "        # Test Evaluation\n",
    "        metrics_test, actual, predicted = evaluate(\n",
    "            model, x_test, y_test)\n",
    "\n",
    "        for k, v in metrics_test.items():\n",
    "            live.log_metric(f\"test/{k}\", v)\n",
    "\n",
    "        live.log_sklearn_plot(\n",
    "            \"confusion_matrix\", actual, predicted, name=\"test/confusion_matrix\"\n",
    "        )\n",
    "\n",
    "        live.log_image(\n",
    "            \"misclassified.jpg\", \n",
    "            get_missclassified_image(actual, predicted, mnist_test)\n",
    "        )\n",
    "\n",
    "        # Save best model\n",
    "        if metrics_test[\"acc\"] > best_test_acc:\n",
    "            torch.save(model.state_dict(), \"model.pt\")\n",
    "\n",
    "        live.next_step()\n",
    "\n",
    "    live.log_artifact(\"model.pt\")"
   ]
  },
  {
   "attachments": {},
   "cell_type": "markdown",
   "metadata": {},
   "source": [
    "## Comparing results"
   ]
  },
  {
   "cell_type": "code",
   "execution_count": null,
   "metadata": {},
   "outputs": [],
   "source": [
    "import dvc.api\n",
    "import pandas as pd\n",
    "\n",
    "columns = [\"epochs\", \"lr\", \"weight_decay\", \"test.acc\"]\n",
    "\n",
    "df = pd.DataFrame(dvc.api.exp_show(), columns=columns)\n",
    "\n",
    "df.dropna(inplace=True)\n",
    "df.reset_index(drop=True, inplace=True)\n",
    "df\n"
   ]
  },
  {
   "cell_type": "code",
   "execution_count": null,
   "metadata": {},
   "outputs": [],
   "source": [
    "from plotly.express import parallel_coordinates\n",
    "\n",
    "fig = parallel_coordinates(df, columns, color=\"test.acc\")\n",
    "fig.show()"
   ]
  },
  {
   "cell_type": "code",
   "execution_count": null,
   "metadata": {},
   "outputs": [],
   "source": [
    "!dvc plots diff $(dvc exp list --names-only)"
   ]
  },
  {
   "cell_type": "code",
   "execution_count": null,
   "metadata": {},
   "outputs": [],
   "source": [
    "from IPython.display import HTML\n",
    "HTML(filename='./dvc_plots/index.html')"
   ]
  }
 ],
 "metadata": {
  "kernelspec": {
   "display_name": "Python 3 (ipykernel)",
   "language": "python",
   "name": "python3"
  },
  "language_info": {
   "codemirror_mode": {
    "name": "ipython",
    "version": 3
   },
   "file_extension": ".py",
   "mimetype": "text/x-python",
   "name": "python",
   "nbconvert_exporter": "python",
   "pygments_lexer": "ipython3",
   "version": "3.9.16"
  }
 },
 "nbformat": 4,
 "nbformat_minor": 2
}
