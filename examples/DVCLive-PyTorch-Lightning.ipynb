{
  "cells": [
    {
      "cell_type": "markdown",
      "metadata": {
        "id": "A812CVYi_B2b"
      },
      "source": [
        "<a href=\"https://colab.research.google.com/github/iterative/dvclive/blob/main/examples/DVCLive-PyTorch-Lightning.ipynb\" target=\"_parent\"><img src=\"https://colab.research.google.com/assets/colab-badge.svg\" alt=\"Open In Colab\"/></a>"
      ]
    },
    {
      "cell_type": "markdown",
      "metadata": {
        "id": "gPh2FiPo_B2e"
      },
      "source": [
        "# DVCLive and PyTorch Lightning"
      ]
    },
    {
      "cell_type": "markdown",
      "metadata": {
        "id": "m0XW9Ml7_B2e"
      },
      "source": [
        "## Setup"
      ]
    },
    {
      "cell_type": "code",
      "execution_count": null,
      "metadata": {
        "id": "QivH1_cU_B2f"
      },
      "outputs": [],
      "source": [
        "!pip install \"dvclive[lightning]\""
      ]
    },
    {
      "cell_type": "code",
      "execution_count": null,
      "metadata": {
        "id": "pn_5GW1f_B2g"
      },
      "outputs": [],
      "source": [
        "!git init -q\n",
        "!git config --local user.email \"you@example.com\"\n",
        "!git config --local user.name \"Your Name\"\n",
        "!dvc init -q\n",
        "!git commit -m \"DVC init\""
      ]
    },
    {
      "cell_type": "markdown",
      "metadata": {
        "id": "zC9hk7kibFTX"
      },
      "source": [
        "### Define LightningModule"
      ]
    },
    {
      "cell_type": "code",
      "execution_count": null,
      "metadata": {
        "id": "t5PxdljP_B2h"
      },
      "outputs": [],
      "source": [
        "import lightning.pytorch as pl\n",
        "import torch\n",
        "\n",
        "class LitAutoEncoder(pl.LightningModule):\n",
        "    def __init__(self, encoder_size=64, lr=1e-3):\n",
        "        super().__init__()\n",
        "        self.save_hyperparameters()\n",
        "        self.encoder = torch.nn.Sequential(\n",
        "            torch.nn.Linear(28 * 28, encoder_size),\n",
        "            torch.nn.ReLU(),\n",
        "            torch.nn.Linear(encoder_size, 3)\n",
        "        )\n",
        "        self.decoder = torch.nn.Sequential(\n",
        "            torch.nn.Linear(3, encoder_size),\n",
        "            torch.nn.ReLU(),\n",
        "            torch.nn.Linear(encoder_size, 28 * 28)\n",
        "        )\n",
        "\n",
        "    def training_step(self, batch, batch_idx):\n",
        "        x, y = batch\n",
        "        x = x.view(x.size(0), -1)\n",
        "        z = self.encoder(x)\n",
        "        x_hat = self.decoder(z)\n",
        "        train_mse = torch.nn.functional.mse_loss(x_hat, x)\n",
        "        self.log(\"train_mse\", train_mse)\n",
        "        return train_mse\n",
        "\n",
        "    def validation_step(self, batch, batch_idx):\n",
        "        x, y = batch\n",
        "        x = x.view(x.size(0), -1)\n",
        "        z = self.encoder(x)\n",
        "        x_hat = self.decoder(z)\n",
        "        val_mse = torch.nn.functional.mse_loss(x_hat, x)\n",
        "        self.log(\"val_mse\", val_mse)\n",
        "        return val_mse\n",
        "\n",
        "    def configure_optimizers(self):\n",
        "        optimizer = torch.optim.Adam(self.parameters(), lr=self.hparams.lr)\n",
        "        return optimizer"
      ]
    },
    {
      "cell_type": "markdown",
      "metadata": {
        "id": "St0ElX9obqRS"
      },
      "source": [
        "### Dataset and loaders"
      ]
    },
    {
      "cell_type": "code",
      "execution_count": null,
      "metadata": {
        "id": "T5s53qgr_B2h"
      },
      "outputs": [],
      "source": [
        "from torchvision.datasets import MNIST\n",
        "import torchvision.transforms as transforms\n",
        "\n",
        "transform = transforms.ToTensor()\n",
        "train_set = MNIST(root=\"MNIST\", download=True, train=True, transform=transform)\n",
        "validation_set = MNIST(root=\"MNIST\", download=True, train=False, transform=transform)\n",
        "train_loader = torch.utils.data.DataLoader(train_set)\n",
        "validation_loader = torch.utils.data.DataLoader(validation_set)"
      ]
    },
    {
      "cell_type": "markdown",
      "metadata": {
        "id": "ttiwwreH_B2i"
      },
      "source": [
        "# Tracking experiments with DVCLive"
      ]
    },
    {
      "cell_type": "code",
      "execution_count": null,
      "metadata": {
        "id": "sE6qj6BMoDkn"
      },
      "outputs": [],
      "source": [
        "from dvclive.lightning import DVCLiveLogger"
      ]
    },
    {
      "cell_type": "code",
      "execution_count": null,
      "metadata": {
        "id": "XDqNY8pL_B2i"
      },
      "outputs": [],
      "source": [
        "for encoder_size in (64, 128):\n",
        "  for lr in (1e-3, 0.1):\n",
        "    model = LitAutoEncoder(encoder_size=encoder_size, lr=lr)\n",
        "    trainer = pl.Trainer(\n",
        "        limit_train_batches=200,\n",
        "        limit_val_batches=100,\n",
        "        max_epochs=5,\n",
        "        logger=DVCLiveLogger(log_model=True, report=\"notebook\"),\n",
        "    )\n",
        "    trainer.fit(model, train_loader, validation_loader)\n"
      ]
    },
    {
      "cell_type": "markdown",
      "metadata": {
        "id": "7zEi0BXp_B2i"
      },
      "source": [
        "## Comparing results"
      ]
    },
    {
      "cell_type": "code",
      "execution_count": null,
      "metadata": {
        "id": "1aHmLHmf_B2i"
      },
      "outputs": [],
      "source": [
        "import dvc.api\n",
        "import pandas as pd\n",
        "\n",
        "columns = [\"Experiment\", \"encoder_size\", \"lr\", \"train.mse\", \"val.mse\"]\n",
        "\n",
        "df = pd.DataFrame(dvc.api.exp_show(), columns=columns)\n",
        "\n",
        "df.dropna(inplace=True)\n",
        "df.reset_index(drop=True, inplace=True)\n",
        "df\n"
      ]
    },
    {
      "cell_type": "code",
      "execution_count": null,
      "metadata": {
        "id": "db42qeHEGqTA"
      },
      "outputs": [],
      "source": [
        "from plotly.express import parallel_coordinates\n",
        "fig = parallel_coordinates(df, columns, color=\"val.mse\")\n",
        "fig.show()"
      ]
    },
    {
      "cell_type": "code",
      "execution_count": null,
      "metadata": {
        "id": "3cfvi0Uk_B2j"
      },
      "outputs": [],
      "source": [
        "!dvc plots diff $(dvc exp list --names-only)"
      ]
    },
    {
      "cell_type": "code",
      "execution_count": null,
      "metadata": {
        "id": "Zx5n2zbn_B2j"
      },
      "outputs": [],
      "source": [
        "from IPython.display import HTML\n",
        "HTML(filename='./dvc_plots/index.html')"
      ]
    }
  ],
  "metadata": {
    "accelerator": "GPU",
    "colab": {
      "gpuType": "T4",
      "provenance": [],
      "toc_visible": true
    },
    "kernelspec": {
      "display_name": "Python 3",
      "name": "python3"
    },
    "language_info": {
      "codemirror_mode": {
        "name": "ipython",
        "version": 3
      },
      "file_extension": ".py",
      "mimetype": "text/x-python",
      "name": "python",
      "nbconvert_exporter": "python",
      "pygments_lexer": "ipython3",
      "version": "3.9.16"
    }
  },
  "nbformat": 4,
  "nbformat_minor": 0
}
